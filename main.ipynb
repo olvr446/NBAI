{
 "cells": [
  {
   "cell_type": "code",
   "execution_count": 1,
   "id": "6b371a1b",
   "metadata": {},
   "outputs": [],
   "source": [
    "import numpy as np\n",
    "import pandas as pd"
   ]
  },
  {
   "cell_type": "markdown",
   "id": "435d8135",
   "metadata": {},
   "source": [
    "Joining season stats together"
   ]
  },
  {
   "cell_type": "code",
   "execution_count": null,
   "id": "f3d08b65",
   "metadata": {},
   "outputs": [],
   "source": [
    "df_2021 = pd.read_csv()"
   ]
  }
 ],
 "metadata": {
  "kernelspec": {
   "display_name": "base",
   "language": "python",
   "name": "python3"
  },
  "language_info": {
   "codemirror_mode": {
    "name": "ipython",
    "version": 3
   },
   "file_extension": ".py",
   "mimetype": "text/x-python",
   "name": "python",
   "nbconvert_exporter": "python",
   "pygments_lexer": "ipython3",
   "version": "3.12.4"
  }
 },
 "nbformat": 4,
 "nbformat_minor": 5
}
